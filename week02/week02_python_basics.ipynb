{
 "cells": [
  {
   "cell_type": "markdown",
   "metadata": {},
   "source": [
    "# Introduction to Python\n",
    "\n",
    "In this session we learn about the basic building blocks of Python syntax (variables, expressions, functions, conditional blocks, and loops), so that we can formulate statements of code that the computer can understand.\n",
    "\n",
    "We will be using Jupyter Notebooks for interactive computing with Python. \n",
    "\n",
    "- **Jupyter Notebook (locally on your computer):** Later in this week, you will receive instructions on how to install it and how to work with it.\n",
    "\n",
    "- In the meanwhile, you can try **Jupyter Notebook (web-based interpreter)**: Go to https://jupyter.org/try and click on **Try Classic Notebook**"
   ]
  },
  {
   "cell_type": "markdown",
   "metadata": {},
   "source": [
    "## print function\n",
    "\n",
    "The **print** function is part of the basic Python language (i.e., Python syntax) and can be used to print something on the screen. The keywords and functions make up the syntax of Python, which we can use to build more complex code:\n",
    "\n",
    "- Function: a piece of code that performs a unit of work.\n",
    "- Keyword: reserved word that is used to construct instructions.\n",
    "\n",
    "**Note:** Python comments start with # character"
   ]
  },
  {
   "cell_type": "code",
   "execution_count": null,
   "metadata": {},
   "outputs": [
    {
     "name": "stdout",
     "output_type": "stream",
     "text": [
      "Hello, World!\n",
      "\n",
      "I am Python!\n"
     ]
    }
   ],
   "source": [
    "# print \"Hellow, World!\" (traditional way to start learning a language; in other languages it can take more lines to print)\n",
    "\n",
    "print(\"Hello, World!\")\n",
    "print()\n",
    "print(\"I am Python!\")"
   ]
  },
  {
   "cell_type": "code",
   "execution_count": null,
   "metadata": {},
   "outputs": [
    {
     "name": "stdout",
     "output_type": "stream",
     "text": [
      "I am Python\n"
     ]
    }
   ],
   "source": [
    "# introduce strings and define a variable called name (concatenating)\n",
    "\n",
    "name = \"Python\"\n",
    "print(\"I am \" + name)    # concatenate strings\n"
   ]
  },
  {
   "cell_type": "markdown",
   "metadata": {},
   "source": [
    "## Python can be your calculator\n",
    "\n",
    "- add (+), subtract (-), multiply (*), and divide (/) operations\n",
    "\n",
    "- elevate to power (\\**), integer and remainder part of division (// and %; floor division and modulo) operations\n"
   ]
  },
  {
   "cell_type": "code",
   "execution_count": null,
   "metadata": {},
   "outputs": [
    {
     "data": {
      "text/plain": [
       "0.5"
      ]
     },
     "execution_count": 14,
     "metadata": {},
     "output_type": "execute_result"
    }
   ],
   "source": [
    "# mathematical operations (use parentheses as we do in math problems)\n",
    "\n",
    "12.5 % 3"
   ]
  },
  {
   "cell_type": "markdown",
   "metadata": {},
   "source": [
    "## Data Types\n",
    "\n",
    "- string: text written between quotes\n",
    "- integer: whole numbers without fraction\n",
    "- float: real numbers (numbers with a fractional part)\n",
    "- boolean: represents one of two possible states: either True or False\n",
    "\n",
    "**Note:** Generally your computer doesn't know how to mix different data types."
   ]
  },
  {
   "cell_type": "code",
   "execution_count": null,
   "metadata": {},
   "outputs": [
    {
     "name": "stdout",
     "output_type": "stream",
     "text": [
      "Hello, World!\n",
      "<class 'str'>\n",
      "True\n",
      "<class 'bool'>\n"
     ]
    }
   ],
   "source": [
    "# example of data types & use type function\n",
    "statement = \"Hello, World!\"\n",
    "print(statement)\n",
    "print(type(statement))\n",
    "\n",
    "statement = True # \"Hello, World!\"\n",
    "print(statement)\n",
    "print(type(statement))\n"
   ]
  },
  {
   "cell_type": "code",
   "execution_count": null,
   "metadata": {},
   "outputs": [
    {
     "name": "stdout",
     "output_type": "stream",
     "text": [
      "I am Python\n",
      "9.0\n"
     ]
    },
    {
     "ename": "TypeError",
     "evalue": "unsupported operand type(s) for +: 'int' and 'str'",
     "output_type": "error",
     "traceback": [
      "\u001b[0;31m---------------------------------------------------------------------------\u001b[0m",
      "\u001b[0;31mTypeError\u001b[0m                                 Traceback (most recent call last)",
      "\u001b[0;32m<ipython-input-3-9931c6a4e38e>\u001b[0m in \u001b[0;36m<module>\u001b[0;34m\u001b[0m\n\u001b[1;32m      3\u001b[0m \u001b[0mprint\u001b[0m\u001b[0;34m(\u001b[0m\u001b[0;34m\"I am \"\u001b[0m \u001b[0;34m+\u001b[0m \u001b[0;34m\"Python\"\u001b[0m\u001b[0;34m)\u001b[0m\u001b[0;34m\u001b[0m\u001b[0;34m\u001b[0m\u001b[0m\n\u001b[1;32m      4\u001b[0m \u001b[0mprint\u001b[0m\u001b[0;34m(\u001b[0m\u001b[0;36m4\u001b[0m \u001b[0;34m+\u001b[0m \u001b[0;36m5.0\u001b[0m\u001b[0;34m)\u001b[0m\u001b[0;34m\u001b[0m\u001b[0;34m\u001b[0m\u001b[0m\n\u001b[0;32m----> 5\u001b[0;31m \u001b[0mprint\u001b[0m\u001b[0;34m(\u001b[0m\u001b[0;36m4\u001b[0m \u001b[0;34m+\u001b[0m \u001b[0;34m\"Python\"\u001b[0m\u001b[0;34m)\u001b[0m\u001b[0;34m\u001b[0m\u001b[0;34m\u001b[0m\u001b[0m\n\u001b[0m",
      "\u001b[0;31mTypeError\u001b[0m: unsupported operand type(s) for +: 'int' and 'str'"
     ]
    }
   ],
   "source": [
    "# mix string & integer (you will get an error --- type it in the browser)\n",
    "\n",
    "print(\"I am \" + \"Python\")\n",
    "print(4 + 5.0)\n",
    "print(4 + \"Python\")"
   ]
  },
  {
   "cell_type": "code",
   "execution_count": null,
   "metadata": {},
   "outputs": [
    {
     "name": "stdout",
     "output_type": "stream",
     "text": [
      "4 Python\n",
      "4\n",
      "<class 'int'>\n"
     ]
    }
   ],
   "source": [
    "# mix string and integer with an explicit conversion (built-in functions)\n",
    "\n",
    "print(str(4) + \" Python\")\n",
    "print(int(\"4\"))\n",
    "print(type(int(\"4\")))"
   ]
  },
  {
   "cell_type": "code",
   "execution_count": null,
   "metadata": {},
   "outputs": [
    {
     "name": "stdout",
     "output_type": "stream",
     "text": [
      "9.0\n",
      "<class 'float'>\n"
     ]
    }
   ],
   "source": [
    "# mix integer & float (implicit conversion)\n",
    "print(4 + 5.0)\n",
    "print(type(4 + 5.0))"
   ]
  },
  {
   "cell_type": "code",
   "execution_count": null,
   "metadata": {},
   "outputs": [
    {
     "name": "stdout",
     "output_type": "stream",
     "text": [
      "9\n",
      "<class 'int'>\n",
      "\n",
      "9.0\n",
      "<class 'float'>\n",
      "\n",
      "9\n",
      "<class 'int'>\n"
     ]
    }
   ],
   "source": [
    "value = 4 + int(5.0)\n",
    "print(value)\n",
    "print(type(value))\n",
    "print()\n",
    "\n",
    "value = float(4) + 5.0\n",
    "print(value)\n",
    "print(type(value))\n",
    "print()\n",
    "\n",
    "value = int(4 + 5.0)\n",
    "print(value)\n",
    "print(type(value))"
   ]
  },
  {
   "cell_type": "markdown",
   "metadata": {},
   "source": [
    "# Variables\n",
    "\n",
    "When we write code, we usually need to store values (i.e., give them names) so that we can refer to them later.\n",
    "\n",
    "- Variable: name that we give to certain values (of any type) in our code. It is like a container for our data, and when you make a variable, it is stored in a chunk of computer's memory which can be accessed later (to read or modify).\n",
    "- Assignment: The process of storing a value inside a varibale using = sign.\n",
    "- Expression: A combinations of numbers, symbols, or other variables that produce a result when evaluated (to calculate more complex values)\n",
    "\n",
    "# Variable Naming Restrictions\n",
    "\n",
    "- Don't use spaces and keywords or functions that Python reserves for its own\n",
    "- Must start with a letter or an underscore and be made up of only letters, numbers, and underscore\n",
    "- variable names are case-sensitive"
   ]
  },
  {
   "cell_type": "code",
   "execution_count": null,
   "metadata": {},
   "outputs": [
    {
     "name": "stdout",
     "output_type": "stream",
     "text": [
      "50.0\n"
     ]
    },
    {
     "ename": "TypeError",
     "evalue": "'int' object is not callable",
     "output_type": "error",
     "traceback": [
      "\u001b[0;31m---------------------------------------------------------------------------\u001b[0m",
      "\u001b[0;31mTypeError\u001b[0m                                 Traceback (most recent call last)",
      "\u001b[0;32m<ipython-input-36-a488be347d13>\u001b[0m in \u001b[0;36m<module>\u001b[0;34m\u001b[0m\n\u001b[1;32m      8\u001b[0m \u001b[0;34m\u001b[0m\u001b[0m\n\u001b[1;32m      9\u001b[0m \u001b[0mtype\u001b[0m \u001b[0;34m=\u001b[0m \u001b[0;36m4\u001b[0m\u001b[0;34m\u001b[0m\u001b[0;34m\u001b[0m\u001b[0m\n\u001b[0;32m---> 10\u001b[0;31m \u001b[0mprint\u001b[0m\u001b[0;34m(\u001b[0m\u001b[0mtype\u001b[0m\u001b[0;34m(\u001b[0m\u001b[0;34m\"Hi\"\u001b[0m\u001b[0;34m)\u001b[0m\u001b[0;34m)\u001b[0m\u001b[0;34m\u001b[0m\u001b[0;34m\u001b[0m\u001b[0m\n\u001b[0m",
      "\u001b[0;31mTypeError\u001b[0m: 'int' object is not callable"
     ]
    }
   ],
   "source": [
    "# define length, width, and area (expression)\n",
    "length1 = 10\n",
    "width = 5.0\n",
    "area = length1 * width\n",
    "print(area)\n",
    "\n",
    "# IMPORTANT: This will overwrite the built-in type function in Python\n",
    "#            To refresh Python's definitions, click on Kernel & choose Restart\n",
    "type = 4\n",
    "print(type(\"Hi\")) # print(4(\"Hi\"))\n"
   ]
  },
  {
   "cell_type": "code",
   "execution_count": null,
   "metadata": {},
   "outputs": [
    {
     "data": {
      "text/plain": [
       "int"
      ]
     },
     "execution_count": 1,
     "metadata": {},
     "output_type": "execute_result"
    }
   ],
   "source": [
    "type(5)"
   ]
  },
  {
   "cell_type": "markdown",
   "metadata": {},
   "source": [
    "# Functions\n",
    "\n",
    "Functions allows you to organize your code into logical blocks so that  the code is easier to read and is reusable."
   ]
  },
  {
   "cell_type": "code",
   "execution_count": null,
   "metadata": {},
   "outputs": [
    {
     "name": "stdout",
     "output_type": "stream",
     "text": [
      "Hi Bob\n",
      "Welcome!\n",
      "\n",
      "Hi Nick\n",
      "Welcome!\n",
      "\n",
      "None\n",
      "<class 'NoneType'>\n"
     ]
    }
   ],
   "source": [
    "# define a greeting function (body can have any number of lines with indentation)\n",
    "\n",
    "def greeting(name):\n",
    "    print(\"Hi \" + name)\n",
    "    print(\"Welcome!\")\n",
    "    print()\n",
    "\n",
    "greeting(\"Bob\")\n",
    "# greeting(4)  # gives a Type error\n",
    "    \n",
    "# check what the function returns\n",
    "g = greeting(\"Nick\")\n",
    "print(g)\n",
    "print(type(g))"
   ]
  },
  {
   "cell_type": "code",
   "execution_count": null,
   "metadata": {},
   "outputs": [
    {
     "name": "stdout",
     "output_type": "stream",
     "text": [
      "20\n",
      "None\n",
      "<class 'NoneType'>\n"
     ]
    }
   ],
   "source": [
    "# define an area function (function that returns a value)\n",
    "\n",
    "def area(length, width):\n",
    "    a = length * width\n",
    "    print(a)\n",
    "    return a\n",
    "\n",
    "a = area(4, 5)\n",
    "\n",
    "print(a)\n",
    "print(type(a))"
   ]
  },
  {
   "cell_type": "code",
   "execution_count": null,
   "metadata": {},
   "outputs": [
    {
     "name": "stdout",
     "output_type": "stream",
     "text": [
      "(0, 8, 20)\n",
      "<class 'tuple'>\n",
      "\n",
      "0 6 0\n",
      "<class 'int'> <class 'int'> <class 'int'>\n"
     ]
    }
   ],
   "source": [
    "# define convert_seconds function (return many values)\n",
    "\n",
    "def convert_seconds(seconds):\n",
    "    # 1h = 3600s\n",
    "    hours = seconds // 3600\n",
    "    # 1min = 60s\n",
    "    minutes = (seconds - hours * 3600) // 60\n",
    "    # remaining seconds\n",
    "    remaining = seconds - hours * 3600 - minutes * 60\n",
    "    return hours, minutes, remaining\n",
    "\n",
    "c = convert_seconds(500)\n",
    "print(c)\n",
    "print(type(c))\n",
    "print()\n",
    "\n",
    "h, m, s = convert_seconds(360)\n",
    "print(h, m, s)\n",
    "print(type(h), type(m), type(s))"
   ]
  },
  {
   "cell_type": "markdown",
   "metadata": {},
   "source": [
    "# Conditionals\n",
    "\n",
    "Operators for comparing values:\n",
    "\n",
    "- equality (==) and not equal (!=) operators\n",
    "- Logical operators: **and** (both sides have to be True for the whole statement to be True), **or** (if either side of the comparison is True, the whole statement is True), and **not** (inverrts the value of statement).\n",
    "\n",
    "**if/elif/else** statements allows us to branch the execution based on a specific condition being True (i.e., alter the execution sequence). The **elif** statement allows us to handle more than two comparison cases."
   ]
  },
  {
   "cell_type": "code",
   "execution_count": null,
   "metadata": {},
   "outputs": [
    {
     "name": "stdout",
     "output_type": "stream",
     "text": [
      "Perfect Statement =  Yes\n"
     ]
    }
   ],
   "source": [
    "# example of comparing operators\n",
    "statement = \"Yes\"     # change this string and see how the result changes\n",
    "\n",
    "if len(statement) > 5:\n",
    "    print(\"Statement is too long!\")\n",
    "elif len(statement) < 3:\n",
    "    print(\"Statement in too short!\")\n",
    "elif len(statement) == 3:\n",
    "    print(\"Perfect Statement = \", statement)\n",
    "else:\n",
    "    print(\"Proper Statement = \", statement)"
   ]
  },
  {
   "cell_type": "code",
   "execution_count": null,
   "metadata": {},
   "outputs": [
    {
     "name": "stdout",
     "output_type": "stream",
     "text": [
      "Is 2 even?  True\n",
      "Is 5 even?  False\n"
     ]
    }
   ],
   "source": [
    "# write a function to check whether a number is even (use % with if/else and only if)\n",
    "\n",
    "def is_even(number):\n",
    "    if number % 2 == 0:\n",
    "        return True\n",
    "    return False\n",
    "\n",
    "print(\"Is 2 even? \", is_even(2))\n",
    "print(\"Is 5 even? \", is_even(5))"
   ]
  },
  {
   "cell_type": "markdown",
   "metadata": {},
   "source": [
    "## Loops\n",
    "\n",
    "Loops allows us to do repetitive tasks without making mistake (or getting tired!). To automate repetitive tasks, one can use:\n",
    "\n",
    "- while loops: Instruct your computer to continuously execute a code block based on the value of a condition.\n",
    "- for loops: Iterates over a sequence of values"
   ]
  },
  {
   "cell_type": "code",
   "execution_count": null,
   "metadata": {},
   "outputs": [
    {
     "name": "stdout",
     "output_type": "stream",
     "text": [
      "5\n",
      "4\n",
      "3\n",
      "2\n",
      "1\n"
     ]
    }
   ],
   "source": [
    "# initialize x and print it while less than a number\n",
    "x = 5\n",
    "while x > 0:\n",
    "    print(x)\n",
    "    x -= 1    # without this line, you will be trapped in an infinite loop"
   ]
  },
  {
   "cell_type": "code",
   "execution_count": null,
   "metadata": {},
   "outputs": [
    {
     "name": "stdout",
     "output_type": "stream",
     "text": [
      "1\n",
      "2\n",
      "3\n",
      "4\n"
     ]
    }
   ],
   "source": [
    "# loop using range function\n",
    "for x in range(5):\n",
    "    print(x)"
   ]
  },
  {
   "cell_type": "code",
   "execution_count": null,
   "metadata": {},
   "outputs": [
    {
     "name": "stdout",
     "output_type": "stream",
     "text": [
      "1! =  1\n",
      "2! =  2\n",
      "3! =  6\n",
      "5! =  120\n"
     ]
    }
   ],
   "source": [
    "# compute factorial using range and for loop\n",
    "\n",
    "def factorial(x):\n",
    "    result = 1\n",
    "    for number in range(1, x + 1):\n",
    "        result *= number\n",
    "    return result\n",
    "\n",
    "print(\"1! = \", factorial(1))   # equals to 1\n",
    "print(\"2! = \", factorial(2))   # equals to 1 x 2\n",
    "print(\"3! = \", factorial(3))   # equals to 1 x 2 x 3\n",
    "print(\"5! = \", factorial(5))   # equals to 1 x 2 x 3 x 4 x 5\n"
   ]
  },
  {
   "cell_type": "markdown",
   "metadata": {},
   "source": [
    "# Sequence\n",
    "\n",
    "Example of sequences (which are also data types in Python):\n",
    "\n",
    "- string: a data type used for representing a piece of text written between quotes (immutable).\n",
    "- list: collection of items (of any type) stored in square brackets (mutable).\n",
    "- dictionary: a data type that stores data in the form of pairs of keys and values in curely brakets (data is not accessed with indexing).\n",
    "\n",
    "These sequences share operations, like using for loop to iterate over them, indexing, len, + to concatenate and in. These sequences also have special functions that are specific to the sequence."
   ]
  },
  {
   "cell_type": "code",
   "execution_count": null,
   "metadata": {},
   "outputs": [
    {
     "name": "stdout",
     "output_type": "stream",
     "text": [
      "5\n",
      "H o\n",
      "True\n",
      "False\n"
     ]
    }
   ],
   "source": [
    "# example of string with len/index and in\n",
    "s = \"Hello\"\n",
    "print(len(s))         # length of string\n",
    "print(s[0], s[-1])    # example of indexing to get first and last element of the string\n",
    "print(\"e\" in s)       # check whether \"e\" shows up in the string\n",
    "print(\"h\" in s)       # check whether \"h\" shows up in the string"
   ]
  },
  {
   "cell_type": "code",
   "execution_count": null,
   "metadata": {},
   "outputs": [
    {
     "name": "stdout",
     "output_type": "stream",
     "text": [
      "HELLO\n",
      "hello\n",
      "Hillo\n"
     ]
    }
   ],
   "source": [
    "# example of string methods (upper, strip, endswith, isnumeric, ...)\n",
    "print(s.upper())           # make string uppercase\n",
    "print(s.lower())           # make string lowercase\n",
    "print(s.replace('e', 'i')) # replace e with i"
   ]
  },
  {
   "cell_type": "code",
   "execution_count": null,
   "metadata": {},
   "outputs": [
    {
     "name": "stdout",
     "output_type": "stream",
     "text": [
      "True\n",
      "False\n",
      "Hello\n"
     ]
    }
   ],
   "source": [
    "print(s.endswith('lo'))    # check whether string ends with a special character\n",
    "print(s.endswith('e'))     # check whether string ends with a special character\n",
    "print(s)                   # see that original string is intact"
   ]
  },
  {
   "cell_type": "code",
   "execution_count": null,
   "metadata": {},
   "outputs": [
    {
     "name": "stdout",
     "output_type": "stream",
     "text": [
      "4\n",
      "a abc\n",
      "False\n"
     ]
    }
   ],
   "source": [
    "# example of list with len/index and in\n",
    "l = [\"a\", 3, 5.5, \"abc\"]\n",
    "print(len(l))      # number of items in list\n",
    "print(l[0], l[3])  # example of indexing to get first and last element of the string\n",
    "print(\"ab\" in l)   # check whether \"ab\" is an item in the list"
   ]
  },
  {
   "cell_type": "code",
   "execution_count": null,
   "metadata": {},
   "outputs": [
    {
     "name": "stdout",
     "output_type": "stream",
     "text": [
      "['a', 3, 5.5, 'abc', 0]\n",
      "['a', 'c', 3, 5.5, 'abc', 0]\n",
      "['a', 'c', 3, 5.5, 0]\n"
     ]
    }
   ],
   "source": [
    "# example of list methods append, insert, and remove\n",
    "l.append(0)    # add item to the end of the list\n",
    "print(l)       # notice that the list has changed\n",
    "\n",
    "l.insert(1, \"c\")  # insert item at position 1 in the list\n",
    "print(l)\n",
    "\n",
    "l.remove(\"abc\")   # remove item \"abc\" from list\n",
    "print(l)"
   ]
  },
  {
   "cell_type": "code",
   "execution_count": null,
   "metadata": {},
   "outputs": [
    {
     "name": "stdout",
     "output_type": "stream",
     "text": [
      "4\n",
      "dict_keys(['a', 'b', 'c', 3])\n",
      "dict_values([0, 1, 2, 'd'])\n",
      "{'a': 0, 'b': 1, 'c': 2, 3: 'd', 'e': 5}\n"
     ]
    }
   ],
   "source": [
    "# example of dictionary methods (keys, values, update, clear)\n",
    "d = {\"a\": 0, \"b\": 1, \"c\": 2, 3: \"d\"}\n",
    "\n",
    "print(len(d))       # get number of items in dictionary\n",
    "print(d.keys())     # get the keys of dictionary\n",
    "print(d.values())   # get the values of dictionary\n",
    "\n",
    "d.update({\"e\": 5})  # update dictionary\n",
    "print(d)            # notice how the dictionary has changed"
   ]
  },
  {
   "cell_type": "code",
   "execution_count": null,
   "metadata": {},
   "outputs": [
    {
     "name": "stdout",
     "output_type": "stream",
     "text": [
      "a 0\n",
      "b 1\n",
      "c 2\n",
      "3 d\n",
      "e 5\n"
     ]
    }
   ],
   "source": [
    "# loop over dictionary\n",
    "for k, v in d.items():\n",
    "    print(k, v)"
   ]
  }
 ],
 "metadata": {
  "kernelspec": {
   "display_name": "Python 3",
   "language": "python",
   "name": "python3"
  },
  "language_info": {
   "codemirror_mode": {
    "name": "ipython",
    "version": 3
   },
   "file_extension": ".py",
   "mimetype": "text/x-python",
   "name": "python",
   "nbconvert_exporter": "python",
   "pygments_lexer": "ipython3",
   "version": "3.6.8"
  }
 },
 "nbformat": 4,
 "nbformat_minor": 4
}
