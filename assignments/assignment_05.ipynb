{
 "cells": [
  {
   "cell_type": "markdown",
   "metadata": {},
   "source": [
    "**<span style=\"color:#A03;font-size:20pt\">\n",
    "&#x1f3af; Assignment 5\n",
    "</span>**\n",
    "\n",
    "**Before you get started, please read the instructions below:**\n",
    "\n",
    ">**1)** Don't feel intimidated by the length of this notebook which is caused by the detailed instructions given to make things clear and straightforward. The amount of coding that you need to do is very small.\n",
    ">\n",
    ">**2)** Go through this notebook and read the instructions and comments carefully to complete the `# TODO:` items (the only coding you need to do is addressing `# TODO:` items) and answer the questions. \n",
    ">\n",
    ">**3)** Please do **NOT** delete any part(s) of markdown or code blocks, including the `# TODO:` instructions. Just add your answers, code, and comments to the notebook.\n",
    ">\n",
    ">**4)** Make sure conda environment `chem413` is activated, and this Jupyter notebook is launched from that environment. The libraries that might need (numpy, matplotlib, scipy, ase, and nglview) should be already installed in this environment."
   ]
  },
  {
   "cell_type": "code",
   "execution_count": null,
   "metadata": {},
   "outputs": [],
   "source": [
    "# Execute this code block to import libraries\n",
    "\n",
    "import numpy as np\n",
    "import matplotlib.pyplot as plt\n",
    "from scipy.optimize import minimize"
   ]
  },
  {
   "cell_type": "markdown",
   "metadata": {},
   "source": [
    "**<span style=\"color:#A03;font-size:20pt\">\n",
    "&#129300; Question 1 [1 points]\n",
    "</span>** \n",
    "\n",
    "In the following code block, you are given two arrays containing the atomic numbers and the corresponding Cartesian coordinates of formyl chloride (CHClO). The corresponding Z-matrix is given below, where `X` and `Y` denote two missing values.\n",
    "\n",
    "```\n",
    "Cl\n",
    "O   1  X\n",
    "C   2  1.227  1  31.173\n",
    "H   3  Y      2  119.841  1  180.0\n",
    "```\n",
    "\n",
    "Use the following code block to compute the two missing values. "
   ]
  },
  {
   "cell_type": "code",
   "execution_count": null,
   "metadata": {},
   "outputs": [],
   "source": [
    "# Atomic number of formyl chloride\n",
    "numbers = np.array([17, 8, 6, 1])\n",
    "\n",
    "# Corresponding atomic Cartesian coordinaets of formyl chloride\n",
    "coordinates = np.array([[ 1.42980, -0.16090, 0.0],\n",
    "                        [-1.22820, -0.25570, 0.0],\n",
    "                        [-0.20160,  0.41650, 0.0],\n",
    "                        [-0.26650,  1.51690, 0.0]])\n",
    "\n",
    "# TODO: Compute missing values (X & Y) of Z-matrix.\n",
    "#       Include all the code you need for this computation here.\n",
    "\n",
    "\n",
    "# TODO: Complete the print statements below to display missing values\n",
    "print('X = ', )\n",
    "print('Y = ', )"
   ]
  },
  {
   "cell_type": "markdown",
   "metadata": {},
   "source": [
    "**<span style=\"color:#A03;font-size:20pt\">\n",
    "&#129300; Question 2 [4 points]\n",
    "</span>** \n",
    "\n",
    "Consider the potential below for modeling the pairwise interaction between two atoms:\n",
    "\n",
    "\\begin{equation*}\n",
    "E(R_\\text{AB}) = 9.5 \\times \\left[e^{-4 (R_\\text{AB} - 2.3)} - 2 e^{-2 (R_\\text{AB} - 2.3)} \\right]\n",
    "\\end{equation*}\n",
    "\n",
    "where $R_\\text{AB}$ denote the distance between two atoms A and B, and $e$ denotes the exponential function.\n",
    "\n",
    "> As you can see, there are two terms in the potential, which are implemented and will be plotted in the following two code blocks. Complete the `# TODO:` items in the 2nd code block to visualize the pairwise potential and its terms."
   ]
  },
  {
   "cell_type": "code",
   "execution_count": null,
   "metadata": {},
   "outputs": [],
   "source": [
    "# Implement the van der Waals potential (given above) and its terms\n",
    "\n",
    "def pairwise(r):\n",
    "    return pairwise_term1(r) + pairwise_term2(r)\n",
    "\n",
    "def pairwise_term1(r):\n",
    "    return 9.5 * np.exp(-4.0 * (r - 2.3)) \n",
    "\n",
    "def pairwise_term2(r):\n",
    "    return 9.5 * (- 2.0 * np.exp(-2.0 * (r - 2.3)))"
   ]
  },
  {
   "cell_type": "code",
   "execution_count": null,
   "metadata": {},
   "outputs": [],
   "source": [
    "# Visualize the van der Waals potential and its terms\n",
    "\n",
    "# Compute the potential and its terms\n",
    "distance = np.arange(1.8, 3.5, 0.1)\n",
    "\n",
    "# TODO: Use the pairwise function to evaluate the potential for\n",
    "#       the values in distance array.\n",
    "#       Assign the returned value to a variable called potential.\n",
    "\n",
    "\n",
    "# TODO: Use the pairwise_term1 function to evaluate the 1st term\n",
    "#       of the potential for the values in distance array. \n",
    "#       Assign the returned value to a variable called term1.\n",
    "\n",
    "\n",
    "# TODO: Use the pairwise_term2 function to evaluate the 2nd term\n",
    "#       of the potential for the values in distance array. \n",
    "#       Assign the returned value to a variable called term2.\n",
    "\n",
    "\n",
    "# Visualize the potential and its terms\n",
    "plt.plot(distance, np.zeros_like(distance), color='0.5', linestyle='--')\n",
    "plt.plot(distance, potential, marker='o', color='b', label='Potential')\n",
    "plt.plot(distance, term1, marker='^', color='r', label='Term 1')\n",
    "plt.plot(distance, term2, marker='.', color='g', label='Term 2')\n",
    "# Set the plotting range on y-axis\n",
    "plt.ylim(-15.0, 15.0)\n",
    "# Label axes\n",
    "plt.xlabel(\"Distance between two atoms\")\n",
    "plt.ylabel(\"Potential\")\n",
    "plt.title(\"Pairwise van der Waals Potential\")\n",
    "\n",
    "plt.legend()\n",
    "plt.show()"
   ]
  },
  {
   "cell_type": "markdown",
   "metadata": {},
   "source": [
    "**<span style=\"color:#A03;font-size:14pt\">\n",
    "Question 2.1\n",
    "</span>**\n",
    "\n",
    "Based on the information above:\n",
    "\n",
    "> **a)** For each term of the pairwise potential, specify whether it corresponds to an attractive or repulsive interaction. Briefly explain why.\n",
    "\n",
    "PUT YOUR ANSWER HERE.\n",
    "\n",
    "> **b)** Which term is dominant at large values of R? Which term is dominant at small values of R?\n",
    "\n",
    "PUT YOUR ANSWER HERE.\n"
   ]
  },
  {
   "cell_type": "markdown",
   "metadata": {},
   "source": [
    "**<span style=\"color:#A03;font-size:14pt\">\n",
    "Question 2.2\n",
    "</span>**\n",
    "\n",
    "> Use the code block below to find the minimum in the pairwise potential using the `minimize` function of [scipy.optimize](https://docs.scipy.org/doc/scipy/reference/generated/scipy.optimize.minimize.html). What are the values of $R_\\text{AB}$ and potential at the minimum?\n",
    "\n",
    "PUT YOUR ANSWER HERE."
   ]
  },
  {
   "cell_type": "code",
   "execution_count": null,
   "metadata": {},
   "outputs": [],
   "source": [
    "# TODO: Use minimize function from scipy.optimize to minimize the\n",
    "#       pairwise function using method='TNC'.\n",
    "#       Note: You should choose a proper initial guess, and you don't need\n",
    "#       to provide `jac` argument, which has a default value of None.\n",
    "\n"
   ]
  },
  {
   "cell_type": "markdown",
   "metadata": {},
   "source": [
    "**<span style=\"color:#A03;font-size:20pt\">\n",
    "&#129300; Question 3 [5 points]\n",
    "</span>** \n",
    "\n",
    "Given the one-dimensional potential:\n",
    "\n",
    "\\begin{equation*}\n",
    "E = (x - 1.0) \\times (x - 6.0) \\times (x - 3.75)^2 \\\\\n",
    "\\end{equation*}\n",
    "\n",
    "**<span style=\"color:#A03;font-size:14pt\">\n",
    "Question 3.1\n",
    "</span>**\n",
    "\n",
    "> Go through the **two** code blocks below and complete `# TODO` items to visualize the potential. How many stationary point(s) can you identify? What are their types?"
   ]
  },
  {
   "cell_type": "code",
   "execution_count": null,
   "metadata": {},
   "outputs": [],
   "source": [
    "# Implement the potential and its derivatives\n",
    "\n",
    "def potential(x):\n",
    "    # TODO: Complete the return statement to evaluate the potential euqation given above\n",
    "    return \n",
    "\n",
    "def gradient(x):\n",
    "    \"\"\"First derivative of the potential.\"\"\"\n",
    "    return 4 * x**3 - 14.5 * 3 * x**2 + 72.5625 * 2 * x - 143.4375\n",
    "\n",
    "def hessian(x):\n",
    "    \"\"\"Second derivative of the potential.\"\"\"\n",
    "    return 12 * x**2 - 14.5 * 6 * x + 72.5625 * 2"
   ]
  },
  {
   "cell_type": "code",
   "execution_count": null,
   "metadata": {},
   "outputs": [],
   "source": [
    "# Visualize the potential\n",
    "\n",
    "# sample values on x-axis\n",
    "x = np.arange(1.2, 6.05, 0.05)\n",
    "\n",
    "# TODO: Plot the potential (E vs. x) using the x values above\n"
   ]
  },
  {
   "cell_type": "markdown",
   "metadata": {},
   "source": [
    "> Execute the code block below which contains `steepest_descent` and `newton_raphson` functions copied from hands-on tutorials. You will use these two functions in the following code blocks to find stationary points of the above potential and answer some questions."
   ]
  },
  {
   "cell_type": "code",
   "execution_count": null,
   "metadata": {},
   "outputs": [],
   "source": [
    "# Copied from hands-on tutorials, so that you have can use the\n",
    "# steepest descent and newtonraphson method\n",
    "\n",
    "def steepest_descent(grad, x0, step, max_iter=500, threshold=1.e-4):\n",
    "\n",
    "    x_new = x0\n",
    "    niter = 0\n",
    "    x_descent = np.array([x0])\n",
    "\n",
    "    while abs(grad(x_new)) > threshold and niter < max_iter:\n",
    "        \n",
    "        # print(\"x_new & grad = \", round(x_new, 6), abs(grad(x_new)))\n",
    "        \n",
    "        # the old coordinates\n",
    "        x_old = x_new\n",
    "\n",
    "        # compute the new coordinates\n",
    "        x_new = x_old - step * grad(x_old)\n",
    "\n",
    "        # increase the number of iterations\n",
    "        niter += 1\n",
    "\n",
    "        # add the new x\n",
    "        x_descent = np.append(x_descent, x_new)\n",
    "\n",
    "    if niter == max_iter:\n",
    "        print(\"WARNING: Maximum number of iterations reached!\")\n",
    "\n",
    "    print(\"niter = \", niter)\n",
    "    print(\"x_opt = \", x_new)\n",
    "    print(\"g_opt = \", grad(x_new))\n",
    "    \n",
    "    return x_new, x_descent\n",
    "\n",
    "\n",
    "def newton_raphson(grad, hess, x0, max_iter=500, threshold=1.0e-4):\n",
    "\n",
    "    x_new = x0\n",
    "    niter = 0\n",
    "    x_descent = np.array([x0])\n",
    "\n",
    "    while abs(grad(x_new)) > threshold and niter < max_iter:\n",
    "        \n",
    "        # print(\"x_new & grad = \", round(x_new, 6), abs(grad(x_new)))\n",
    "\n",
    "        # the old coordinates\n",
    "        x_old = x_new\n",
    "\n",
    "        # compute the new coordinates\n",
    "        x_new = x_old - grad(x_old) / hess(x_old)\n",
    "\n",
    "        # increase the number of iterations\n",
    "        niter += 1\n",
    "\n",
    "        # add the new x\n",
    "        x_descent = np.append(x_descent, x_new)\n",
    "\n",
    "    if niter == max_iter:\n",
    "        print(\"WARNING: Maximum number of iterations reached!\")\n",
    "    \n",
    "    if abs(grad(x_new)) > threshold:\n",
    "        print(\"WARNING: Gradient norm is not less than threshold!\")\n",
    "        \n",
    "    print(\"niter = \", niter)\n",
    "    print(\"x_opt = \", x_new)\n",
    "    print(\"g_opt = \", grad(x_new))\n",
    "    \n",
    "    return x_new, x_descent"
   ]
  },
  {
   "cell_type": "markdown",
   "metadata": {},
   "source": [
    "**<span style=\"color:#A03;font-size:14pt\">\n",
    "Question 3.2\n",
    "</span>**\n",
    "\n",
    "In the code block below, you will use the `steepest_descent` function to optimize the potential and visualize the optimization steps.\n",
    "\n",
    "> Propose initial guesses (and step sizes) for identifying **each** of the stationary points of the potential using `steepest_descent` method? You can duplicate the code block below (as many times as you need) to demonstrate your answer.\n",
    "\n",
    "PUT YOUR ANSWER HERE."
   ]
  },
  {
   "cell_type": "code",
   "execution_count": null,
   "metadata": {},
   "outputs": [],
   "source": [
    "# TODO: Provide the required arguments of steepest_descent function\n",
    "#       to compute r_opt and r_descent.\n",
    "r_opt, r_descent = steepest_descent()\n",
    "\n",
    "# Plot optimization steps (copied from tutorial notebook)\n",
    "r_values = np.arange(1.2, 6.05, 0.05)\n",
    "q_values = potential(r_values)\n",
    "q_descent = potential(r_descent)\n",
    "plt.plot(r_values, q_values, color='0.75', linestyle='-')\n",
    "plt.plot(r_descent, q_descent, marker='>', color='k')\n",
    "for i, (r, q) in enumerate(zip(r_descent, q_descent)):\n",
    "    plt.text(r, q, str(i), color='r', fontsize=14)\n",
    "plt.show()"
   ]
  },
  {
   "cell_type": "markdown",
   "metadata": {},
   "source": [
    "**<span style=\"color:#A03;font-size:14pt\">\n",
    "Question 3.3\n",
    "</span>**\n",
    "\n",
    "In the code block below, you will use the `newton_raphson` function to optimize the potential and visualize the optimization steps.\n",
    "\n",
    "> Propose initial guesses (and step sizes) for identifying **each** of the stationary points of the potential using `newton_raphson` method? You can duplicate the code block below (as many times as you need) to demonstrate your answer.\n",
    "\n",
    "PUT YOUR ANSWER HERE."
   ]
  },
  {
   "cell_type": "code",
   "execution_count": null,
   "metadata": {},
   "outputs": [],
   "source": [
    "# TODO: Provide the required arguments of newton_raphson function\n",
    "#       to compute r_opt and r_descent.\n",
    "r_opt, r_descent = newton_raphson()\n",
    "\n",
    "# Plot optimization steps (copied from tutorial notebook)\n",
    "r_values = np.arange(1.2, 6.05, 0.05)\n",
    "q_values = potential(r_values)\n",
    "q_descent = potential(r_descent)\n",
    "plt.plot(r_values, q_values, color='0.75', linestyle='-')\n",
    "plt.plot(r_descent, q_descent, marker='>', color='k')\n",
    "for i, (r, q) in enumerate(zip(r_descent, q_descent)):\n",
    "    plt.text(r, q, str(i), color='r', fontsize=14)\n",
    "plt.show()"
   ]
  }
 ],
 "metadata": {
  "kernelspec": {
   "display_name": "Python 3",
   "language": "python",
   "name": "python3"
  },
  "language_info": {
   "codemirror_mode": {
    "name": "ipython",
    "version": 3
   },
   "file_extension": ".py",
   "mimetype": "text/x-python",
   "name": "python",
   "nbconvert_exporter": "python",
   "pygments_lexer": "ipython3",
   "version": "3.6.8"
  },
  "toc": {
   "base_numbering": 1,
   "nav_menu": {},
   "number_sections": true,
   "sideBar": true,
   "skip_h1_title": false,
   "title_cell": "Table of Contents",
   "title_sidebar": "Contents",
   "toc_cell": false,
   "toc_position": {},
   "toc_section_display": true,
   "toc_window_display": false
  }
 },
 "nbformat": 4,
 "nbformat_minor": 4
}
