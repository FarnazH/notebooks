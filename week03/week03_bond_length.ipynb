{
 "cells": [
  {
   "cell_type": "markdown",
   "metadata": {},
   "source": [
    "**<span style=\"color:#A03;font-size:14pt\">\n",
    "&#x1F528; Summary of Tutorial &#x1F528;\n",
    "</span>** \n",
    "\n",
    "This tutorial teaches you:\n",
    "\n",
    "> **1.** How to compute bond lengths using basic Python functionality.\n",
    ">\n",
    "> **2.** How to use [Numpy](https://numpy.org/) for a simpler and more efficient bond-length implementation.\n",
    ">\n",
    "> **3.** How to use [ASE](https://wiki.fysik.dtu.dk/ase/) to get all bond lengths at the same time (no implementation required).\n",
    ">\n",
    "> **4.** How to use [NGLView](http://nglviewer.org/nglview/latest/api.html) to visualize chemical structures!\n",
    "\n",
    "**Notice:** \n",
    " - Make sure conda environment `chem413` is activated, and the jupyter notebook is launched from that environment.\n",
    "\n",
    "- The water molecule is used as an example, and its Cartesian coordinates are taken from the lecture notes (Week 3 --- Molecular Structure)."
   ]
  },
  {
   "cell_type": "code",
   "execution_count": 1,
   "metadata": {},
   "outputs": [
    {
     "name": "stdout",
     "output_type": "stream",
     "text": [
      "Number of atoms =  3\n",
      "Number of atoms =  3\n"
     ]
    }
   ],
   "source": [
    "# Water: Use lists to store atomic numbers and Cartesian coordinates\n",
    "\n",
    "numbers = [8, 1, 1]\n",
    "\n",
    "geometry = [[1.00000, 1.00000, 1.00000], # (x, y, z) coordinates of O\n",
    "            [1.95700, 1.00000, 1.00000], # (x, y, z) coordinates of H\n",
    "            [0.75876, 1.92609, 1.00000]] # (x, y, z) coordinates of H\n",
    "\n",
    "# compute the number of atoms\n",
    "print(\"Number of atoms = \", len(numbers))\n",
    "print(\"Number of atoms = \", len(geometry))"
   ]
  },
  {
   "cell_type": "markdown",
   "metadata": {},
   "source": [
    "# <font color=blue>Compute Bond Length</font>\n",
    "\n",
    "\n",
    "\n",
    "Given the Cartesian coordinates of two points, i.e., $\\mathbf{c_1}=(x_1, y_1, z_1)$ and $\\mathbf{c_2}=(x_2, y_2, z_2)$, the Euclidean distance between them is computed by:\n",
    "\n",
    "\\begin{equation*}\n",
    "r = \\sqrt{(x_1 - x_2)^2 + (y_1 - y_2)^2 + (z_1 - z_2)^2}\n",
    "\\end{equation*}\n",
    "\n",
    "We will implement this formula to compute the O-H bond length of water."
   ]
  },
  {
   "cell_type": "code",
   "execution_count": 2,
   "metadata": {},
   "outputs": [
    {
     "name": "stdout",
     "output_type": "stream",
     "text": [
      " O-H1 Bond Length =  0.957\n",
      " O-H2 Bond Length =  0.957\n",
      "H1-H2 Bond Length =  1.5144\n",
      "--- --- --- --- --- --- --- \n",
      " O-H1 Bond Length =  0.957\n",
      " O-H2 Bond Length =  0.957\n",
      "H1-H2 Bond Length =  1.5144\n"
     ]
    }
   ],
   "source": [
    "# 1. Define a function to compute Euclidean distance between two points\n",
    "\n",
    "def distance(coord1, coord2):\n",
    "    # unpack whole list into variables (assuming 3D space)\n",
    "    x1, y1, z1 = coord1\n",
    "    x2, y2, z2 = coord2\n",
    "    # compute the term under the square root\n",
    "    value = (x1 - x2)**2 + (y1 - y2)**2 + (z1 - z2)**2\n",
    "    # take square root of value\n",
    "    value = value**0.5\n",
    "    # round value to 4 decimals\n",
    "    return round(value, 4)\n",
    "\n",
    "# 2. Compute distance between atoms in water (does it match lecture notes?)\n",
    "print(\" O-H1 Bond Length = \", distance(geometry[0], geometry[1]))\n",
    "print(\" O-H2 Bond Length = \", distance(geometry[0], geometry[2]))\n",
    "print(\"H1-H2 Bond Length = \", distance(geometry[1], geometry[2]))\n",
    "print(\"--- \" * 7)\n",
    "\n",
    "# 3. Alternative definition of distance function that works in any dimension\n",
    "\n",
    "def distance_alternative(coord1, coord2):\n",
    "    value = sum([(item1 - item2)**2 for item1, item2 in zip(coord1, coord2)])\n",
    "    value = value**0.5\n",
    "    return round(value, 4)\n",
    "\n",
    "print(\" O-H1 Bond Length = \", distance_alternative(geometry[0], geometry[1]))\n",
    "print(\" O-H2 Bond Length = \", distance_alternative(geometry[0], geometry[2]))\n",
    "print(\"H1-H2 Bond Length = \", distance_alternative(geometry[1], geometry[2]))"
   ]
  },
  {
   "cell_type": "markdown",
   "metadata": {},
   "source": [
    "**<span style=\"color:#A03;font-size:14pt\">\n",
    "&#x270B; HANDS-ON Exercise!\n",
    "</span>** \n",
    "\n",
    "Using the Formamide (HCONH2) geometry (from lecture notes) in the code cell below:\n",
    "> - Define a list containing its atomic numbers.\n",
    ">\n",
    "> - Define a list containing Cartesian coordinate of its atoms.\n",
    ">\n",
    "> - Compute the Euclidean distance between various pairs of atoms.\n",
    "\n",
    "To check the correctness of the computed values, refer to Formamide's Z-matrix in the lecture notes (Week 3 -- Molecular Structure). For example, The O-C bond length is expected to be 1.205 angstrom.\n"
   ]
  },
  {
   "cell_type": "code",
   "execution_count": null,
   "metadata": {},
   "outputs": [],
   "source": [
    "# Formamide's Cartesian Coordinates\n",
    "\n",
    "# O          1.08315        0.22427        0.00004\n",
    "# N         -1.18647        0.17565        0.00000\n",
    "# C          0.04483       -0.38784       -0.00003\n",
    "# H         -1.26832        1.17683        0.00007\n",
    "# H         -2.01601       -0.38579       -0.00006\n",
    "# H          0.00241       -1.49112       -0.00012\n",
    "\n",
    "# 1. Define two lists to store the atomic numbers and coordinates of Formamide\n",
    "\n",
    "\n",
    "# 2. Compute distance between various pairs of atoms and compare to Z-matrix values\n"
   ]
  },
  {
   "cell_type": "markdown",
   "metadata": {},
   "source": [
    "# <font color=blue>Numpy Library</font>\n",
    "\n",
    "[Numpy](https://numpy.org/) is a Python library supporting large, multi-dimensional arrays and matrices, along with a large collection of high-level mathematical functions to operate on these arrays."
   ]
  },
  {
   "cell_type": "markdown",
   "metadata": {},
   "source": [
    "Here, we will use Numpy for a simpler and more efficient implementation of bond length using [numpy.lingalg.norm](https://numpy.org/doc/stable/reference/generated/numpy.linalg.norm.html) function, which computes the norm (i.e., length) of a vector. This is possible, because Euclidean distance is the norm of the vector connecting two points (i.e., difference vector).\n",
    "\n",
    "Given the Cartesian coordinates of two points, i.e., $\\mathbf{c_1}=(x_1, y_1, z_1)$ and $\\mathbf{c_2}=(x_2, y_2, z_2)$, the Euclidean distance between them is computed by:\n",
    "\n",
    "\\begin{equation*}\n",
    "r = \\sqrt{(x_1 - x_2)^2 + (y_1 - y_2)^2 + (z_1 - z_2)^2} \n",
    "  = \\|\\mathbf{c_1} - \\mathbf{c_2}\\|\n",
    "\\end{equation*}\n"
   ]
  },
  {
   "cell_type": "code",
   "execution_count": 3,
   "metadata": {},
   "outputs": [
    {
     "name": "stdout",
     "output_type": "stream",
     "text": [
      "[8, 1, 1] <class 'list'>\n",
      "[8 1 1] <class 'numpy.ndarray'>\n",
      "\n",
      "[[1.0, 1.0, 1.0], [1.957, 1.0, 1.0], [0.75876, 1.92609, 1.0]] <class 'list'>\n",
      "[[1.      1.      1.     ]\n",
      " [1.957   1.      1.     ]\n",
      " [0.75876 1.92609 1.     ]] <class 'numpy.ndarray'>\n"
     ]
    }
   ],
   "source": [
    "import numpy as np\n",
    "\n",
    "# Define arrays of atomic numbers and coordinates\n",
    "\n",
    "nums = np.array(numbers)\n",
    "geom = np.array(geometry)\n",
    "\n",
    "print(numbers, type(numbers))\n",
    "print(nums, type(nums))\n",
    "print(\"\")\n",
    "print(geometry, type(geometry))\n",
    "print(geom, type(geom))"
   ]
  },
  {
   "cell_type": "code",
   "execution_count": 4,
   "metadata": {},
   "outputs": [
    {
     "name": "stdout",
     "output_type": "stream",
     "text": [
      " O-H1 Bond Length =  0.957\n",
      " O-H2 Bond Length =  0.957\n",
      "H1-H2 Bond Length =  1.5144\n"
     ]
    }
   ],
   "source": [
    "# Define dinstace function using numpy\n",
    "\n",
    "def distance_numpy(coord1, coord2):\n",
    "    # coord1 & coord2 are expected to be numpy arrays\n",
    "    value = np.linalg.norm(coord1 - coord2)\n",
    "    return round(value, 4)\n",
    "\n",
    "print(\" O-H1 Bond Length = \", distance_numpy(geom[0], geom[1]))\n",
    "print(\" O-H2 Bond Length = \", distance_numpy(geom[0], geom[2]))\n",
    "print(\"H1-H2 Bond Length = \", distance_numpy(geom[1], geom[2]))\n"
   ]
  },
  {
   "cell_type": "markdown",
   "metadata": {},
   "source": [
    "**<span style=\"color:#A03;font-size:14pt\">\n",
    "&#x270B; HANDS-ON Exercise!\n",
    "</span>** \n",
    "\n",
    "> Write a for loop to compute the distance between unique pairs of atoms in Formamide."
   ]
  },
  {
   "cell_type": "code",
   "execution_count": null,
   "metadata": {},
   "outputs": [],
   "source": [
    "# Write a for loop to compute unique bond distances\n"
   ]
  },
  {
   "cell_type": "markdown",
   "metadata": {},
   "source": [
    "# <font color=blue>ASE Library</font>\n",
    "\n",
    "[Atomic Simulation Environment (ASE)](https://wiki.fysik.dtu.dk/ase/) is a set of tools and Python modules for setting up, manipulating, running, visualizing and analyzing atomistic simulations.\n",
    "\n",
    "\n",
    "Here, we will use [ase.Atoms](https://wiki.fysik.dtu.dk/ase/ase/atoms.html#module-ase.atoms) to define water molecule as a collection of atoms.\n"
   ]
  },
  {
   "cell_type": "code",
   "execution_count": 5,
   "metadata": {},
   "outputs": [
    {
     "name": "stdout",
     "output_type": "stream",
     "text": [
      "atomic numbers =  [8 1 1]\n",
      "\n",
      "Distance Matrix:\n",
      "[[0.         0.957      0.956995  ]\n",
      " [0.957      0.         1.51440476]\n",
      " [0.956995   1.51440476 0.        ]]\n"
     ]
    }
   ],
   "source": [
    "import ase\n",
    "\n",
    "# Make an instance of Atoms class for water\n",
    "water = ase.Atoms('OH2', positions=geometry)\n",
    "\n",
    "# get atomic numbers\n",
    "print(\"atomic numbers = \", water.numbers)\n",
    "print(\"\")\n",
    "\n",
    "# Compute atomic distances (we don't need to reinvent the wheel!)\n",
    "print(\"Distance Matrix:\")\n",
    "print(water.get_all_distances())"
   ]
  },
  {
   "cell_type": "code",
   "execution_count": 6,
   "metadata": {},
   "outputs": [
    {
     "name": "stdout",
     "output_type": "stream",
     "text": [
      "atomic numbers =  [8 1 1]\n",
      "atomic masses  =  [15.999  1.008  1.008]\n",
      "atomic symbols =  ['O', 'H', 'H']\n"
     ]
    }
   ],
   "source": [
    "# Bonus: Using ASE, you can easily get atomic numbers, masses, & symbols\n",
    "print(\"atomic numbers = \", water.get_atomic_numbers())\n",
    "print(\"atomic masses  = \", water.get_masses())\n",
    "print(\"atomic symbols = \", water.get_chemical_symbols())"
   ]
  },
  {
   "cell_type": "markdown",
   "metadata": {},
   "source": [
    "**<span style=\"color:#A03;font-size:14pt\">\n",
    "&#x270B; HANDS-ON Exercise!\n",
    "</span>** \n",
    "\n",
    "Using the Formamide (HCONH2) geometry (from lecture notes) in the code cell below:\n",
    "> - Make an instance of `ase.Atoms` for Formamide molecule.\n",
    ">\n",
    "> - Get the O-C bond length using `get_all_distances()` method (answer is 1.205).\n",
    ">\n",
    "> - Compute the molecular mass of Formamide! (answer is 45.04 g/mol)\n"
   ]
  },
  {
   "cell_type": "markdown",
   "metadata": {},
   "source": [
    "# <font color=blue>NGLView</font>\n",
    "\n",
    "[NGLView](http://nglviewer.org/nglview/latest/api.html) An IPython/Jupyter widget to interactively view molecular structures and trajectories. Here, we will use NGLView to visualize the structure of molecules and proteins!"
   ]
  },
  {
   "cell_type": "code",
   "execution_count": 7,
   "metadata": {},
   "outputs": [
    {
     "data": {
      "application/vnd.jupyter.widget-view+json": {
       "model_id": "a72ce2bb9524445fba51890437d9e1e3",
       "version_major": 2,
       "version_minor": 0
      },
      "text/html": [
       "<p>Failed to display Jupyter Widget of type <code>_ColormakerRegistry</code>.</p>\n",
       "<p>\n",
       "  If you're reading this message in Jupyter Notebook or JupyterLab, it may mean\n",
       "  that the widgets JavaScript is still loading. If this message persists, it\n",
       "  likely means that the widgets JavaScript library is either not installed or\n",
       "  not enabled. See the <a href=\"https://ipywidgets.readthedocs.io/en/stable/user_install.html\">Jupyter\n",
       "  Widgets Documentation</a> for setup instructions.\n",
       "</p>\n",
       "<p>\n",
       "  If you're reading this message in another notebook frontend (for example, a static\n",
       "  rendering on GitHub or <a href=\"https://nbviewer.jupyter.org/\">NBViewer</a>),\n",
       "  it may mean that your frontend doesn't currently support widgets.\n",
       "</p>\n"
      ],
      "text/plain": []
     },
     "metadata": {},
     "output_type": "display_data"
    },
    {
     "data": {
      "application/vnd.jupyter.widget-view+json": {
       "model_id": "9f6f609c2eba4ec3b9db1e0f9eaec185",
       "version_major": 2,
       "version_minor": 0
      },
      "text/html": [
       "<p>Failed to display Jupyter Widget of type <code>NGLWidget</code>.</p>\n",
       "<p>\n",
       "  If you're reading this message in Jupyter Notebook or JupyterLab, it may mean\n",
       "  that the widgets JavaScript is still loading. If this message persists, it\n",
       "  likely means that the widgets JavaScript library is either not installed or\n",
       "  not enabled. See the <a href=\"https://ipywidgets.readthedocs.io/en/stable/user_install.html\">Jupyter\n",
       "  Widgets Documentation</a> for setup instructions.\n",
       "</p>\n",
       "<p>\n",
       "  If you're reading this message in another notebook frontend (for example, a static\n",
       "  rendering on GitHub or <a href=\"https://nbviewer.jupyter.org/\">NBViewer</a>),\n",
       "  it may mean that your frontend doesn't currently support widgets.\n",
       "</p>\n"
      ],
      "text/plain": [
       "NGLWidget()"
      ]
     },
     "metadata": {},
     "output_type": "display_data"
    }
   ],
   "source": [
    "# Visualize water\n",
    "\n",
    "import nglview\n",
    "\n",
    "view = nglview.show_ase(water)\n",
    "view"
   ]
  },
  {
   "cell_type": "markdown",
   "metadata": {},
   "source": [
    "**<span style=\"color:#A03;font-size:14pt\">\n",
    "&#x270B; HANDS-ON Exercise!\n",
    "</span>** \n",
    "\n",
    "\n",
    "> Visualize the Formamide (HCONH2) molecule. \n"
   ]
  },
  {
   "cell_type": "code",
   "execution_count": null,
   "metadata": {},
   "outputs": [],
   "source": [
    "# Visualize Formamide\n"
   ]
  },
  {
   "cell_type": "markdown",
   "metadata": {},
   "source": [
    "**Cool Feature:** You can use NGLView to visualize proteins just knowing their PDB ID (e.g., [3PQR](https://www.rcsb.org/structure/3PQR)) and even save their image!"
   ]
  },
  {
   "cell_type": "code",
   "execution_count": 8,
   "metadata": {},
   "outputs": [
    {
     "data": {
      "application/vnd.jupyter.widget-view+json": {
       "model_id": "352d2e5d857d4c0cae18b71cd0116c1a",
       "version_major": 2,
       "version_minor": 0
      },
      "text/html": [
       "<p>Failed to display Jupyter Widget of type <code>NGLWidget</code>.</p>\n",
       "<p>\n",
       "  If you're reading this message in Jupyter Notebook or JupyterLab, it may mean\n",
       "  that the widgets JavaScript is still loading. If this message persists, it\n",
       "  likely means that the widgets JavaScript library is either not installed or\n",
       "  not enabled. See the <a href=\"https://ipywidgets.readthedocs.io/en/stable/user_install.html\">Jupyter\n",
       "  Widgets Documentation</a> for setup instructions.\n",
       "</p>\n",
       "<p>\n",
       "  If you're reading this message in another notebook frontend (for example, a static\n",
       "  rendering on GitHub or <a href=\"https://nbviewer.jupyter.org/\">NBViewer</a>),\n",
       "  it may mean that your frontend doesn't currently support widgets.\n",
       "</p>\n"
      ],
      "text/plain": [
       "NGLWidget()"
      ]
     },
     "metadata": {},
     "output_type": "display_data"
    }
   ],
   "source": [
    "# Visualize 3PQR protein\n",
    "\n",
    "import nglview as nv\n",
    "view = nv.show_pdbid(\"3pqr\")\n",
    "view"
   ]
  },
  {
   "cell_type": "code",
   "execution_count": 16,
   "metadata": {},
   "outputs": [],
   "source": [
    "view.download_image(\"3pqr_jupyter.png\")"
   ]
  }
 ],
 "metadata": {
  "kernelspec": {
   "display_name": "Python 3",
   "language": "python",
   "name": "python3"
  },
  "language_info": {
   "codemirror_mode": {
    "name": "ipython",
    "version": 3
   },
   "file_extension": ".py",
   "mimetype": "text/x-python",
   "name": "python",
   "nbconvert_exporter": "python",
   "pygments_lexer": "ipython3",
   "version": "3.6.12"
  },
  "toc": {
   "base_numbering": 1,
   "nav_menu": {},
   "number_sections": true,
   "sideBar": true,
   "skip_h1_title": false,
   "title_cell": "Table of Contents",
   "title_sidebar": "Contents",
   "toc_cell": false,
   "toc_position": {},
   "toc_section_display": true,
   "toc_window_display": false
  }
 },
 "nbformat": 4,
 "nbformat_minor": 4
}
