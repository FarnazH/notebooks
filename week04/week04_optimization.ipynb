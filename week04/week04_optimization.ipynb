{
 "cells": [
  {
   "cell_type": "markdown",
   "metadata": {},
   "source": [
    "**<span style=\"color:#A03;font-size:14pt\">\n",
    "&#x1F528; Summary of Tutorial &#x1F528;\n",
    "</span>** \n",
    "\n",
    "This tutorial will implement the **harmonic bond stretching model** and use **steepest descent** and **Newton-Raphson** methods to find the minimum potential:\n",
    "\n",
    "> **1.** Implement the potential and optimization methods using [Numpy](https://numpy.org/).\n",
    ">\n",
    "> **2.** Visualize the potential and convergence of optimizers using [Matplotlib](https://matplotlib.org/).\n",
    ">\n",
    "> **3.** Use optimization algorithms from [Scipy](https://www.scipy.org/).\n",
    "\n",
    "**Notice:** \n",
    "- Make sure conda environment `chem413` is activated, and the Jupyter notebook is launched from that environment. The required libraries (numpy, matplotlib, and scipy) are already installed in this environment."
   ]
  },
  {
   "cell_type": "code",
   "execution_count": 25,
   "metadata": {},
   "outputs": [],
   "source": [
    "import numpy as np\n",
    "\n",
    "import matplotlib.pyplot as plt"
   ]
  },
  {
   "cell_type": "markdown",
   "metadata": {},
   "source": [
    "# <font color=blue>Example: Quadratic Potential</font>\n",
    "\n",
    "The harmonic bond stretching of two atoms (like A and B) at a distance $R$ is modeled by:\n",
    "\n",
    "\\begin{equation*}\n",
    "E_{AB}(R) =  k_{AB} (R - R^0_{AB})^2\n",
    "\\end{equation*}\n",
    "\n",
    "and its derivatives are:\n",
    "\n",
    "\\begin{align}\n",
    "\\frac{dE_{AB}(R)}{dR} &= E'(R) = 2 \\times k_{AB} (R - R^0_{AB}) \\\\\n",
    "\\frac{d^2E_{AB}(R)}{dR^2} &= E''(R) = 2 \\times k_{AB}\n",
    "\\end{align}\n",
    "\n",
    "For the $\\text{H}_2$ molecules, the force constant is $k_{AB}=0.368 \\frac{\\text{hartree}}{\\text{bohr}}$ and equilibrium bond length is $R^0_{AB}=1.4011$ bohr (which is equal to 0.7414 angstrom). For a reference to these constants, [click here](https://aip.scitation.org/doi/10.1063/1.1676880).\n",
    "\n",
    "**<span style=\"color:#A03;font-size:18pt\">\n",
    "&#129349; Goal\n",
    "</span>**\n",
    "\n",
    "> - Implement the quadratic potential and its derivatives.\n",
    "> \n",
    "> - Visualize the quadratic function.\n"
   ]
  },
  {
   "cell_type": "code",
   "execution_count": 10,
   "metadata": {},
   "outputs": [],
   "source": [
    "# Implement quadratic bond-stretching potential and its derivatives for H2 molecule\n",
    "\n",
    "def quadratic(x):\n",
    "    return 0.368 * (x - 1.4011)**2\n",
    "\n",
    "def quadratic_gradient(x):\n",
    "    return 2 * 0.368 * (x - 1.4011)\n",
    "\n",
    "def quadratic_hessian(x):\n",
    "    return 2 * 0.368"
   ]
  },
  {
   "cell_type": "markdown",
   "metadata": {},
   "source": [
    "> Use **Python list** to evaluate and visualize the quadratic potential."
   ]
  },
  {
   "cell_type": "code",
   "execution_count": 35,
   "metadata": {},
   "outputs": [
    {
     "data": {
      "image/png": "[encoded data removed]",
      "text/plain": [
       "<Figure size 432x288 with 1 Axes>"
      ]
     },
     "metadata": {
      "needs_background": "light"
     },
     "output_type": "display_data"
    }
   ],
   "source": [
    "# Make a list of bond distances\n",
    "# r_values = [0.0, 0.1, 0.2, 0.3, 0.4, 0.5, 0.6, 0.7, 0.8, 0.9, 1.0, 1.1, 1.2, 1.3, 1.4, \n",
    "#             1.5, 1.6, 1.7, 1.8, 1.9, 2.0, 2.1, 2.2, 2.3, 2.4, 2.5, 2.6, 2.7, 2.8, 2.9, 3.0]\n",
    "\n",
    "# alternative \n",
    "# r_values = []\n",
    "# for step in range(41):\n",
    "#     r_values.append(0.05 * step)\n",
    "    \n",
    "r_values = [0.05 * step for step in range(61)]\n",
    "    \n",
    "# Evaluate the potential\n",
    "# q_values = []\n",
    "# for r in r_values:\n",
    "#     potential = quadratic(r)\n",
    "#     q_values.append(potential)\n",
    "\n",
    "q_values = [quadratic(r) for r in r_values]\n",
    "\n",
    "# print('r values = ', r_values)\n",
    "# print('')\n",
    "# print('q values = ', q_values)\n",
    "    \n",
    "# Visualize the potential\n",
    "plt.plot(r_values, q_values, marker='o', color='b')\n",
    "plt.xlabel('Distance between two H atoms')\n",
    "plt.ylabel('Harmonic Bond Stretching Potential')\n",
    "plt.show()"
   ]
  },
  {
   "cell_type": "markdown",
   "metadata": {},
   "source": [
    "> Use **Numpy arrays** to evaluate and visualize the quadratic .\n",
    "> \n",
    "> See [numpy.arange](https://numpy.org/doc/stable/reference/generated/numpy.arange.html)"
   ]
  },
  {
   "cell_type": "code",
   "execution_count": 38,
   "metadata": {},
   "outputs": [
    {
     "data": {
      "image/png": "[encoded data removed]",
      "text/plain": [
       "<Figure size 432x288 with 1 Axes>"
      ]
     },
     "metadata": {
      "needs_background": "light"
     },
     "output_type": "display_data"
    }
   ],
   "source": [
    "# samples r values in [0.0, 4.0) interval with 0.05 steps\n",
    "\n",
    "r_values = np.arange(0.0, 4.0, 0.05)\n",
    "q_values = quadratic(r_values)\n",
    "\n",
    "# Visualize the potential\n",
    "plt.plot(r_values, q_values, marker='o', color='b')\n",
    "plt.xlabel('Distance between two H atoms')\n",
    "plt.ylabel('Harmonic Bond Stretching Potential')\n",
    "plt.show()"
   ]
  },
  {
   "cell_type": "markdown",
   "metadata": {},
   "source": [
    "**<span style=\"color:#A03;font-size:18pt\">\n",
    "&#129349; Goal\n",
    "</span>**\n",
    "\n",
    "> - Implement **steepest descent** method which moves in the direction of first-derivative (i.e. gradient) with a step size of $s$ to iteratively decrease the value of potential function, i.e.,\n",
    "> \n",
    "> \\begin{align}\n",
    "  R^{\\text{(new)}} = R^{\\text{(old)}} - s \\times E'\\left(R^{\\text{(old)}}\\right)\n",
    " \\end{align}\n",
    ">\n",
    "> - Find the minimum of quadratic potential and visualize convergence of the **steepest descent**. We will use [matplotlib.pyplot.text](https://matplotlib.org/3.2.1/api/_as_gen/matplotlib.pyplot.text.html) to add text to the plots."
   ]
  },
  {
   "cell_type": "code",
   "execution_count": 11,
   "metadata": {},
   "outputs": [],
   "source": [
    "# Implement steepest descent method as a function \n"
   ]
  },
  {
   "cell_type": "code",
   "execution_count": 4,
   "metadata": {},
   "outputs": [],
   "source": [
    "# Find the equilibrium distance of H2 atoms (which has the minimum potential)\n"
   ]
  },
  {
   "cell_type": "code",
   "execution_count": 5,
   "metadata": {},
   "outputs": [],
   "source": [
    "# Visualize steepest descent convergence\n",
    "\n"
   ]
  },
  {
   "cell_type": "markdown",
   "metadata": {},
   "source": [
    "**<span style=\"color:#A03;font-size:18pt\">\n",
    "&#129300; Questions\n",
    "</span>** \n",
    "\n",
    ">**1)** Why steps get smaller, even though $s$ is fixed?\n",
    ">\n",
    ">**2)** What happens if a large value of $s$ is used?"
   ]
  },
  {
   "cell_type": "markdown",
   "metadata": {},
   "source": [
    "**<span style=\"color:#A03;font-size:18pt\">\n",
    "&#129349; Goal: Newton-Raphson Method\n",
    "</span>**\n",
    "\n",
    "> - Implement **Newton-Raphson** method which , i.e.,\n",
    "> \n",
    "> \\begin{align}\n",
    "  R^{\\text{(new)}} = R^{\\text{(old)}} - \\frac{E'\\left(R^{\\text{(old)}}\\right)}{E''\\left(R^{\\text{(old)}}\\right)}\n",
    " \\end{align}\n",
    ">\n",
    "> - Find the minimum of quadratic potential using the **Newton-Raphson**."
   ]
  },
  {
   "cell_type": "code",
   "execution_count": 38,
   "metadata": {},
   "outputs": [],
   "source": [
    "# Implement Newton-Raphson Method\n",
    "\n"
   ]
  },
  {
   "cell_type": "code",
   "execution_count": 6,
   "metadata": {},
   "outputs": [],
   "source": [
    "# Optimize H2 bond-length with Newton-Raphson method\n"
   ]
  },
  {
   "cell_type": "markdown",
   "metadata": {},
   "source": [
    "**<span style=\"color:#A03;font-size:18pt\">\n",
    "&#129300; Questions\n",
    "</span>** \n",
    "\n",
    ">**1)** How come the Newton-Raphson method converges in 1 iteration?\n",
    ">"
   ]
  },
  {
   "cell_type": "markdown",
   "metadata": {},
   "source": [
    "**<span style=\"color:#A03;font-size:18pt\">\n",
    "&#129349; Goal: Newton-Raphson Method\n",
    "</span>**\n",
    "\n",
    "> - Use [scipy.optimize.minimize](https://docs.scipy.org/doc/scipy/reference/generated/scipy.optimize.minimize.html) for optimization.\n",
    "> - Scipy returns the optimization results as a [scipy.optimize.OptimizeResult](https://docs.scipy.org/doc/scipy/reference/generated/scipy.optimize.OptimizeResult.html#scipy.optimize.OptimizeResult)"
   ]
  },
  {
   "cell_type": "code",
   "execution_count": null,
   "metadata": {},
   "outputs": [],
   "source": [
    "# Use meth='TNC' from scipy to minimize H2 potential"
   ]
  },
  {
   "cell_type": "markdown",
   "metadata": {},
   "source": [
    "**<span style=\"color:#A03;font-size:14pt\">\n",
    "&#x270B; HANDS-ON Exercise!\n",
    "</span>** \n",
    "\n",
    "Investigate the one-dimensional double-well potential defined below with $a$ and $b$ constants. \n",
    "\n",
    "\\begin{equation*}\n",
    "E = (x - 1.5)(x - 3.0)x^2\n",
    "\\end{equation*}\n",
    "\n",
    "> 1) Implement `double_well` potential function and `double_well_gradient` & `double_well_hessian` functions.\n",
    ">\n",
    "> 2) Visualize the function to observe its two minimia and one transition state (similar to reaction energy diagram).\n",
    ">\n",
    "> 3) Change the initial guess and check the number of steps it takes for the steepest descent method to find the minima. How the step size affect the convergence?\n",
    ">\n",
    "> 4) Change the initial guess and check the number of steps it takes for the newton-raphson methods to find the minia.\n",
    "> \n",
    "> 5) Use `scipy.optimize.minimize` to find both minima.\n",
    ">\n",
    "> 6) Adjust the steepest-descent and Newton-Raphson methods to move the system uphill in energy (as opposed to downhill in energy) to locate the transition state."
   ]
  }
 ],
 "metadata": {
  "kernelspec": {
   "display_name": "Python 3",
   "language": "python",
   "name": "python3"
  },
  "language_info": {
   "codemirror_mode": {
    "name": "ipython",
    "version": 3
   },
   "file_extension": ".py",
   "mimetype": "text/x-python",
   "name": "python",
   "nbconvert_exporter": "python",
   "pygments_lexer": "ipython3",
   "version": "3.6.12"
  },
  "toc": {
   "base_numbering": 1,
   "nav_menu": {},
   "number_sections": true,
   "sideBar": true,
   "skip_h1_title": false,
   "title_cell": "Table of Contents",
   "title_sidebar": "Contents",
   "toc_cell": false,
   "toc_position": {},
   "toc_section_display": true,
   "toc_window_display": false
  }
 },
 "nbformat": 4,
 "nbformat_minor": 4
}
